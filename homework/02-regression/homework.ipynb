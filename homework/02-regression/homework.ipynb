{
 "cells": [
  {
   "cell_type": "markdown",
   "metadata": {},
   "source": [
    "# Homework"
   ]
  },
  {
   "cell_type": "code",
   "execution_count": 1,
   "metadata": {},
   "outputs": [],
   "source": [
    "import pandas as pd\n",
    "import numpy as np\n",
    "import seaborn as sns\n",
    "import urllib.request\n",
    "import os\n",
    "from pathlib import Path\n",
    "\n",
    "def getting_the_data(current_script_dir:str) -> str:\n",
    "    \"\"\"Downloading the required data CSV file if not already downloaded.\n",
    "    Returns:\n",
    "        str: The local file path\n",
    "    \"\"\"\n",
    "    url_data = \"https://raw.githubusercontent.com/alexeygrigorev/datasets/master/housing.csv\"\n",
    "    output_path = os.path.join(current_script_dir, Path(url_data).name)\n",
    "    # only download if neccessary\n",
    "    if not os.path.exists(output_path):\n",
    "        urllib.request.urlretrieve(\n",
    "            url_data,\n",
    "            output_path\n",
    "        )\n",
    "    return output_path"
   ]
  },
  {
   "cell_type": "markdown",
   "metadata": {},
   "source": [
    "### EDA\n",
    "- Load the data.\n",
    "- Look at the median_house_value variable. Does it have a long tail?"
   ]
  },
  {
   "cell_type": "code",
   "execution_count": 2,
   "metadata": {},
   "outputs": [
    {
     "data": {
      "text/html": [
       "<div>\n",
       "<style scoped>\n",
       "    .dataframe tbody tr th:only-of-type {\n",
       "        vertical-align: middle;\n",
       "    }\n",
       "\n",
       "    .dataframe tbody tr th {\n",
       "        vertical-align: top;\n",
       "    }\n",
       "\n",
       "    .dataframe thead th {\n",
       "        text-align: right;\n",
       "    }\n",
       "</style>\n",
       "<table border=\"1\" class=\"dataframe\">\n",
       "  <thead>\n",
       "    <tr style=\"text-align: right;\">\n",
       "      <th></th>\n",
       "      <th>longitude</th>\n",
       "      <th>latitude</th>\n",
       "      <th>housing_median_age</th>\n",
       "      <th>total_rooms</th>\n",
       "      <th>total_bedrooms</th>\n",
       "      <th>population</th>\n",
       "      <th>households</th>\n",
       "      <th>median_income</th>\n",
       "      <th>median_house_value</th>\n",
       "      <th>ocean_proximity</th>\n",
       "    </tr>\n",
       "  </thead>\n",
       "  <tbody>\n",
       "    <tr>\n",
       "      <th>0</th>\n",
       "      <td>-122.23</td>\n",
       "      <td>37.88</td>\n",
       "      <td>41.0</td>\n",
       "      <td>880.0</td>\n",
       "      <td>129.0</td>\n",
       "      <td>322.0</td>\n",
       "      <td>126.0</td>\n",
       "      <td>8.3252</td>\n",
       "      <td>452600.0</td>\n",
       "      <td>NEAR BAY</td>\n",
       "    </tr>\n",
       "    <tr>\n",
       "      <th>1</th>\n",
       "      <td>-122.22</td>\n",
       "      <td>37.86</td>\n",
       "      <td>21.0</td>\n",
       "      <td>7099.0</td>\n",
       "      <td>1106.0</td>\n",
       "      <td>2401.0</td>\n",
       "      <td>1138.0</td>\n",
       "      <td>8.3014</td>\n",
       "      <td>358500.0</td>\n",
       "      <td>NEAR BAY</td>\n",
       "    </tr>\n",
       "  </tbody>\n",
       "</table>\n",
       "</div>"
      ],
      "text/plain": [
       "   longitude  latitude  housing_median_age  total_rooms  total_bedrooms  \\\n",
       "0    -122.23     37.88                41.0        880.0           129.0   \n",
       "1    -122.22     37.86                21.0       7099.0          1106.0   \n",
       "\n",
       "   population  households  median_income  median_house_value ocean_proximity  \n",
       "0       322.0       126.0         8.3252            452600.0        NEAR BAY  \n",
       "1      2401.0      1138.0         8.3014            358500.0        NEAR BAY  "
      ]
     },
     "metadata": {},
     "output_type": "display_data"
    },
    {
     "name": "stdout",
     "output_type": "stream",
     "text": [
      "<class 'pandas.core.frame.DataFrame'>\n",
      "RangeIndex: 20640 entries, 0 to 20639\n",
      "Data columns (total 10 columns):\n",
      " #   Column              Non-Null Count  Dtype  \n",
      "---  ------              --------------  -----  \n",
      " 0   longitude           20640 non-null  float64\n",
      " 1   latitude            20640 non-null  float64\n",
      " 2   housing_median_age  20640 non-null  float64\n",
      " 3   total_rooms         20640 non-null  float64\n",
      " 4   total_bedrooms      20433 non-null  float64\n",
      " 5   population          20640 non-null  float64\n",
      " 6   households          20640 non-null  float64\n",
      " 7   median_income       20640 non-null  float64\n",
      " 8   median_house_value  20640 non-null  float64\n",
      " 9   ocean_proximity     20640 non-null  object \n",
      "dtypes: float64(9), object(1)\n",
      "memory usage: 1.6+ MB\n"
     ]
    },
    {
     "data": {
      "text/plain": [
       "None"
      ]
     },
     "metadata": {},
     "output_type": "display_data"
    },
    {
     "name": "stderr",
     "output_type": "stream",
     "text": [
      "/usr/local/lib/python3.10/site-packages/seaborn/_oldcore.py:1498: FutureWarning: is_categorical_dtype is deprecated and will be removed in a future version. Use isinstance(dtype, CategoricalDtype) instead\n",
      "  if pd.api.types.is_categorical_dtype(vector):\n",
      "/usr/local/lib/python3.10/site-packages/seaborn/_oldcore.py:1119: FutureWarning: use_inf_as_na option is deprecated and will be removed in a future version. Convert inf values to NaN before operating instead.\n",
      "  with pd.option_context('mode.use_inf_as_na', True):\n"
     ]
    },
    {
     "data": {
      "text/plain": [
       "<Axes: xlabel='median_house_value', ylabel='Count'>"
      ]
     },
     "execution_count": 2,
     "metadata": {},
     "output_type": "execute_result"
    },
    {
     "data": {
      "image/png": "[encoded data removed]",
      "text/plain": [
       "<Figure size 640x480 with 1 Axes>"
      ]
     },
     "metadata": {},
     "output_type": "display_data"
    }
   ],
   "source": [
    "# loading the data if not already downloaded\n",
    "notebook_dir = globals()['_dh'][0]\n",
    "file_path = getting_the_data(notebook_dir)\n",
    "df = pd.read_csv(file_path)\n",
    "display(df.head(2))\n",
    "display(df.info())\n",
    "\n",
    "sns.histplot(df.median_house_value, bins=50)"
   ]
  },
  {
   "cell_type": "markdown",
   "metadata": {},
   "source": [
    "### Preparing the dataset \n",
    "\n",
    "For this homework, we only want to use a subset of data. \n",
    "\n",
    "First, keep only the records where `ocean_proximity` is either `'<1H OCEAN'` or `'INLAND'`"
   ]
  },
  {
   "cell_type": "code",
   "execution_count": 3,
   "metadata": {},
   "outputs": [],
   "source": [
    "indices_to_drop = ~df['ocean_proximity'].isin(['<1H OCEAN', 'INLAND'])\n",
    "df.drop(index=df.index[indices_to_drop], inplace=True)"
   ]
  },
  {
   "cell_type": "markdown",
   "metadata": {},
   "source": [
    "\n",
    "\n",
    "Next, use only the following columns:"
   ]
  },
  {
   "cell_type": "code",
   "execution_count": 4,
   "metadata": {},
   "outputs": [
    {
     "data": {
      "text/html": [
       "<div>\n",
       "<style scoped>\n",
       "    .dataframe tbody tr th:only-of-type {\n",
       "        vertical-align: middle;\n",
       "    }\n",
       "\n",
       "    .dataframe tbody tr th {\n",
       "        vertical-align: top;\n",
       "    }\n",
       "\n",
       "    .dataframe thead th {\n",
       "        text-align: right;\n",
       "    }\n",
       "</style>\n",
       "<table border=\"1\" class=\"dataframe\">\n",
       "  <thead>\n",
       "    <tr style=\"text-align: right;\">\n",
       "      <th></th>\n",
       "      <th>latitude</th>\n",
       "      <th>longitude</th>\n",
       "      <th>housing_median_age</th>\n",
       "      <th>total_rooms</th>\n",
       "      <th>total_bedrooms</th>\n",
       "      <th>population</th>\n",
       "      <th>households</th>\n",
       "      <th>median_income</th>\n",
       "      <th>median_house_value</th>\n",
       "    </tr>\n",
       "  </thead>\n",
       "  <tbody>\n",
       "    <tr>\n",
       "      <th>701</th>\n",
       "      <td>37.64</td>\n",
       "      <td>-121.97</td>\n",
       "      <td>32.0</td>\n",
       "      <td>1283.0</td>\n",
       "      <td>194.0</td>\n",
       "      <td>485.0</td>\n",
       "      <td>171.0</td>\n",
       "      <td>6.0574</td>\n",
       "      <td>431000.0</td>\n",
       "    </tr>\n",
       "    <tr>\n",
       "      <th>830</th>\n",
       "      <td>37.61</td>\n",
       "      <td>-121.99</td>\n",
       "      <td>9.0</td>\n",
       "      <td>3666.0</td>\n",
       "      <td>711.0</td>\n",
       "      <td>2341.0</td>\n",
       "      <td>703.0</td>\n",
       "      <td>4.6458</td>\n",
       "      <td>217000.0</td>\n",
       "    </tr>\n",
       "    <tr>\n",
       "      <th>859</th>\n",
       "      <td>37.57</td>\n",
       "      <td>-121.97</td>\n",
       "      <td>21.0</td>\n",
       "      <td>4342.0</td>\n",
       "      <td>783.0</td>\n",
       "      <td>2172.0</td>\n",
       "      <td>789.0</td>\n",
       "      <td>4.6146</td>\n",
       "      <td>247600.0</td>\n",
       "    </tr>\n",
       "    <tr>\n",
       "      <th>860</th>\n",
       "      <td>37.58</td>\n",
       "      <td>-121.96</td>\n",
       "      <td>15.0</td>\n",
       "      <td>3575.0</td>\n",
       "      <td>597.0</td>\n",
       "      <td>1777.0</td>\n",
       "      <td>559.0</td>\n",
       "      <td>5.7192</td>\n",
       "      <td>283500.0</td>\n",
       "    </tr>\n",
       "    <tr>\n",
       "      <th>861</th>\n",
       "      <td>37.58</td>\n",
       "      <td>-121.98</td>\n",
       "      <td>20.0</td>\n",
       "      <td>4126.0</td>\n",
       "      <td>1031.0</td>\n",
       "      <td>2079.0</td>\n",
       "      <td>975.0</td>\n",
       "      <td>3.6832</td>\n",
       "      <td>216900.0</td>\n",
       "    </tr>\n",
       "  </tbody>\n",
       "</table>\n",
       "</div>"
      ],
      "text/plain": [
       "     latitude  longitude  housing_median_age  total_rooms  total_bedrooms  \\\n",
       "701     37.64    -121.97                32.0       1283.0           194.0   \n",
       "830     37.61    -121.99                 9.0       3666.0           711.0   \n",
       "859     37.57    -121.97                21.0       4342.0           783.0   \n",
       "860     37.58    -121.96                15.0       3575.0           597.0   \n",
       "861     37.58    -121.98                20.0       4126.0          1031.0   \n",
       "\n",
       "     population  households  median_income  median_house_value  \n",
       "701       485.0       171.0         6.0574            431000.0  \n",
       "830      2341.0       703.0         4.6458            217000.0  \n",
       "859      2172.0       789.0         4.6146            247600.0  \n",
       "860      1777.0       559.0         5.7192            283500.0  \n",
       "861      2079.0       975.0         3.6832            216900.0  "
      ]
     },
     "execution_count": 4,
     "metadata": {},
     "output_type": "execute_result"
    }
   ],
   "source": [
    "columns_to_keep = [\n",
    "    'latitude',\n",
    "    'longitude',\n",
    "    'housing_median_age',\n",
    "    'total_rooms',\n",
    "    'total_bedrooms',\n",
    "    'population',\n",
    "    'households',\n",
    "    'median_income',\n",
    "    'median_house_value']\n",
    "df = df[columns_to_keep]\n",
    "df.head()"
   ]
  },
  {
   "cell_type": "markdown",
   "metadata": {},
   "source": [
    "### Question 1\n",
    "\n",
    "There's one feature with missing values. What is it?\n",
    "\n",
    "* `total_rooms`\n",
    "* __`total_bedrooms`__\n",
    "* `population`\n",
    "* `households`"
   ]
  },
  {
   "cell_type": "code",
   "execution_count": 5,
   "metadata": {},
   "outputs": [
    {
     "data": {
      "text/plain": [
       "['total_bedrooms']"
      ]
     },
     "execution_count": 5,
     "metadata": {},
     "output_type": "execute_result"
    }
   ],
   "source": [
    "df.columns[df.isnull().any()].values.tolist()"
   ]
  },
  {
   "cell_type": "markdown",
   "metadata": {},
   "source": [
    "### Question 2\n",
    "\n",
    "What's the median (50% percentile) for variable `'population'`?\n",
    "\n",
    "- 995\n",
    "- 1095\n",
    "- __1195__\n",
    "- 1295"
   ]
  },
  {
   "cell_type": "code",
   "execution_count": 6,
   "metadata": {},
   "outputs": [
    {
     "data": {
      "text/plain": [
       "(1195.0, 1195.0)"
      ]
     },
     "execution_count": 6,
     "metadata": {},
     "output_type": "execute_result"
    }
   ],
   "source": [
    "# both can be methods can be used\n",
    "df.population.median(), df.population.quantile(0.5)"
   ]
  },
  {
   "cell_type": "code",
   "execution_count": 7,
   "metadata": {},
   "outputs": [
    {
     "name": "stderr",
     "output_type": "stream",
     "text": [
      "/usr/local/lib/python3.10/site-packages/seaborn/_oldcore.py:1498: FutureWarning: is_categorical_dtype is deprecated and will be removed in a future version. Use isinstance(dtype, CategoricalDtype) instead\n",
      "  if pd.api.types.is_categorical_dtype(vector):\n",
      "/usr/local/lib/python3.10/site-packages/seaborn/_oldcore.py:1119: FutureWarning: use_inf_as_na option is deprecated and will be removed in a future version. Convert inf values to NaN before operating instead.\n",
      "  with pd.option_context('mode.use_inf_as_na', True):\n"
     ]
    },
    {
     "data": {
      "text/plain": [
       "<Axes: xlabel='median_house_value', ylabel='Count'>"
      ]
     },
     "execution_count": 7,
     "metadata": {},
     "output_type": "execute_result"
    },
    {
     "data": {
      "image/png": "[encoded data removed]",
      "text/plain": [
       "<Figure size 640x480 with 1 Axes>"
      ]
     },
     "metadata": {},
     "output_type": "display_data"
    }
   ],
   "source": [
    "sns.histplot(df.median_house_value, alpha=.5, bins=50, color='blue')"
   ]
  },
  {
   "cell_type": "code",
   "execution_count": 8,
   "metadata": {},
   "outputs": [
    {
     "name": "stderr",
     "output_type": "stream",
     "text": [
      "/usr/local/lib/python3.10/site-packages/seaborn/_oldcore.py:1498: FutureWarning: is_categorical_dtype is deprecated and will be removed in a future version. Use isinstance(dtype, CategoricalDtype) instead\n",
      "  if pd.api.types.is_categorical_dtype(vector):\n",
      "/usr/local/lib/python3.10/site-packages/seaborn/_oldcore.py:1119: FutureWarning: use_inf_as_na option is deprecated and will be removed in a future version. Convert inf values to NaN before operating instead.\n",
      "  with pd.option_context('mode.use_inf_as_na', True):\n"
     ]
    },
    {
     "data": {
      "text/plain": [
       "<Axes: xlabel='median_house_value', ylabel='Count'>"
      ]
     },
     "execution_count": 8,
     "metadata": {},
     "output_type": "execute_result"
    },
    {
     "data": {
      "image/png": "[encoded data removed]",
      "text/plain": [
       "<Figure size 640x480 with 1 Axes>"
      ]
     },
     "metadata": {},
     "output_type": "display_data"
    }
   ],
   "source": [
    "sns.histplot(df.median_house_value.apply(np.log1p), alpha=.5, bins=50, color='red')"
   ]
  },
  {
   "cell_type": "markdown",
   "metadata": {},
   "source": [
    "### Prepare and split the dataset\n",
    "\n",
    "* Shuffle the initial dataset, use seed `42`.\n",
    "* Split your data in train/val/test sets, with 60%/20%/20% distribution.\n",
    "* Apply the log transformation to the `median_house_value` variable using the `np.log1p()` function."
   ]
  },
  {
   "cell_type": "code",
   "execution_count": 9,
   "metadata": {},
   "outputs": [
    {
     "data": {
      "text/html": [
       "<div>\n",
       "<style scoped>\n",
       "    .dataframe tbody tr th:only-of-type {\n",
       "        vertical-align: middle;\n",
       "    }\n",
       "\n",
       "    .dataframe tbody tr th {\n",
       "        vertical-align: top;\n",
       "    }\n",
       "\n",
       "    .dataframe thead th {\n",
       "        text-align: right;\n",
       "    }\n",
       "</style>\n",
       "<table border=\"1\" class=\"dataframe\">\n",
       "  <thead>\n",
       "    <tr style=\"text-align: right;\">\n",
       "      <th></th>\n",
       "      <th>latitude</th>\n",
       "      <th>longitude</th>\n",
       "      <th>housing_median_age</th>\n",
       "      <th>total_rooms</th>\n",
       "      <th>total_bedrooms</th>\n",
       "      <th>population</th>\n",
       "      <th>households</th>\n",
       "      <th>median_income</th>\n",
       "      <th>median_house_value</th>\n",
       "    </tr>\n",
       "  </thead>\n",
       "  <tbody>\n",
       "    <tr>\n",
       "      <th>19963</th>\n",
       "      <td>36.23</td>\n",
       "      <td>-119.14</td>\n",
       "      <td>22.0</td>\n",
       "      <td>2935.0</td>\n",
       "      <td>523.0</td>\n",
       "      <td>1927.0</td>\n",
       "      <td>530.0</td>\n",
       "      <td>2.5875</td>\n",
       "      <td>70400.0</td>\n",
       "    </tr>\n",
       "    <tr>\n",
       "      <th>5929</th>\n",
       "      <td>34.12</td>\n",
       "      <td>-117.79</td>\n",
       "      <td>16.0</td>\n",
       "      <td>2426.0</td>\n",
       "      <td>426.0</td>\n",
       "      <td>1319.0</td>\n",
       "      <td>446.0</td>\n",
       "      <td>4.8125</td>\n",
       "      <td>224500.0</td>\n",
       "    </tr>\n",
       "  </tbody>\n",
       "</table>\n",
       "</div>"
      ],
      "text/plain": [
       "       latitude  longitude  housing_median_age  total_rooms  total_bedrooms  \\\n",
       "19963     36.23    -119.14                22.0       2935.0           523.0   \n",
       "5929      34.12    -117.79                16.0       2426.0           426.0   \n",
       "\n",
       "       population  households  median_income  median_house_value  \n",
       "19963      1927.0       530.0         2.5875             70400.0  \n",
       "5929       1319.0       446.0         4.8125            224500.0  "
      ]
     },
     "metadata": {},
     "output_type": "display_data"
    },
    {
     "data": {
      "text/html": [
       "<div>\n",
       "<style scoped>\n",
       "    .dataframe tbody tr th:only-of-type {\n",
       "        vertical-align: middle;\n",
       "    }\n",
       "\n",
       "    .dataframe tbody tr th {\n",
       "        vertical-align: top;\n",
       "    }\n",
       "\n",
       "    .dataframe thead th {\n",
       "        text-align: right;\n",
       "    }\n",
       "</style>\n",
       "<table border=\"1\" class=\"dataframe\">\n",
       "  <thead>\n",
       "    <tr style=\"text-align: right;\">\n",
       "      <th></th>\n",
       "      <th>latitude</th>\n",
       "      <th>longitude</th>\n",
       "      <th>housing_median_age</th>\n",
       "      <th>total_rooms</th>\n",
       "      <th>total_bedrooms</th>\n",
       "      <th>population</th>\n",
       "      <th>households</th>\n",
       "      <th>median_income</th>\n",
       "      <th>median_house_value</th>\n",
       "    </tr>\n",
       "  </thead>\n",
       "  <tbody>\n",
       "    <tr>\n",
       "      <th>19963</th>\n",
       "      <td>36.23</td>\n",
       "      <td>-119.14</td>\n",
       "      <td>22.0</td>\n",
       "      <td>2935.0</td>\n",
       "      <td>523.0</td>\n",
       "      <td>1927.0</td>\n",
       "      <td>530.0</td>\n",
       "      <td>2.5875</td>\n",
       "      <td>11.161963</td>\n",
       "    </tr>\n",
       "    <tr>\n",
       "      <th>5929</th>\n",
       "      <td>34.12</td>\n",
       "      <td>-117.79</td>\n",
       "      <td>16.0</td>\n",
       "      <td>2426.0</td>\n",
       "      <td>426.0</td>\n",
       "      <td>1319.0</td>\n",
       "      <td>446.0</td>\n",
       "      <td>4.8125</td>\n",
       "      <td>12.321635</td>\n",
       "    </tr>\n",
       "  </tbody>\n",
       "</table>\n",
       "</div>"
      ],
      "text/plain": [
       "       latitude  longitude  housing_median_age  total_rooms  total_bedrooms  \\\n",
       "19963     36.23    -119.14                22.0       2935.0           523.0   \n",
       "5929      34.12    -117.79                16.0       2426.0           426.0   \n",
       "\n",
       "       population  households  median_income  median_house_value  \n",
       "19963      1927.0       530.0         2.5875           11.161963  \n",
       "5929       1319.0       446.0         4.8125           12.321635  "
      ]
     },
     "metadata": {},
     "output_type": "display_data"
    },
    {
     "data": {
      "text/html": [
       "<div>\n",
       "<style scoped>\n",
       "    .dataframe tbody tr th:only-of-type {\n",
       "        vertical-align: middle;\n",
       "    }\n",
       "\n",
       "    .dataframe tbody tr th {\n",
       "        vertical-align: top;\n",
       "    }\n",
       "\n",
       "    .dataframe thead th {\n",
       "        text-align: right;\n",
       "    }\n",
       "</style>\n",
       "<table border=\"1\" class=\"dataframe\">\n",
       "  <thead>\n",
       "    <tr style=\"text-align: right;\">\n",
       "      <th></th>\n",
       "      <th>latitude</th>\n",
       "      <th>longitude</th>\n",
       "      <th>housing_median_age</th>\n",
       "      <th>total_rooms</th>\n",
       "      <th>total_bedrooms</th>\n",
       "      <th>population</th>\n",
       "      <th>households</th>\n",
       "      <th>median_income</th>\n",
       "      <th>median_house_value</th>\n",
       "    </tr>\n",
       "  </thead>\n",
       "  <tbody>\n",
       "    <tr>\n",
       "      <th>0</th>\n",
       "      <td>36.23</td>\n",
       "      <td>-119.14</td>\n",
       "      <td>22.0</td>\n",
       "      <td>2935.0</td>\n",
       "      <td>523.0</td>\n",
       "      <td>1927.0</td>\n",
       "      <td>530.0</td>\n",
       "      <td>2.5875</td>\n",
       "      <td>11.161963</td>\n",
       "    </tr>\n",
       "    <tr>\n",
       "      <th>1</th>\n",
       "      <td>34.12</td>\n",
       "      <td>-117.79</td>\n",
       "      <td>16.0</td>\n",
       "      <td>2426.0</td>\n",
       "      <td>426.0</td>\n",
       "      <td>1319.0</td>\n",
       "      <td>446.0</td>\n",
       "      <td>4.8125</td>\n",
       "      <td>12.321635</td>\n",
       "    </tr>\n",
       "  </tbody>\n",
       "</table>\n",
       "</div>"
      ],
      "text/plain": [
       "   latitude  longitude  housing_median_age  total_rooms  total_bedrooms  \\\n",
       "0     36.23    -119.14                22.0       2935.0           523.0   \n",
       "1     34.12    -117.79                16.0       2426.0           426.0   \n",
       "\n",
       "   population  households  median_income  median_house_value  \n",
       "0      1927.0       530.0         2.5875           11.161963  \n",
       "1      1319.0       446.0         4.8125           12.321635  "
      ]
     },
     "metadata": {},
     "output_type": "display_data"
    },
    {
     "data": {
      "text/html": [
       "<div>\n",
       "<style scoped>\n",
       "    .dataframe tbody tr th:only-of-type {\n",
       "        vertical-align: middle;\n",
       "    }\n",
       "\n",
       "    .dataframe tbody tr th {\n",
       "        vertical-align: top;\n",
       "    }\n",
       "\n",
       "    .dataframe thead th {\n",
       "        text-align: right;\n",
       "    }\n",
       "</style>\n",
       "<table border=\"1\" class=\"dataframe\">\n",
       "  <thead>\n",
       "    <tr style=\"text-align: right;\">\n",
       "      <th></th>\n",
       "      <th>latitude</th>\n",
       "      <th>longitude</th>\n",
       "      <th>housing_median_age</th>\n",
       "      <th>total_rooms</th>\n",
       "      <th>total_bedrooms</th>\n",
       "      <th>population</th>\n",
       "      <th>households</th>\n",
       "      <th>median_income</th>\n",
       "      <th>median_house_value</th>\n",
       "    </tr>\n",
       "  </thead>\n",
       "  <tbody>\n",
       "    <tr>\n",
       "      <th>count</th>\n",
       "      <td>15687.000000</td>\n",
       "      <td>15687.000000</td>\n",
       "      <td>15687.000000</td>\n",
       "      <td>15687.000000</td>\n",
       "      <td>15530.000000</td>\n",
       "      <td>15687.000000</td>\n",
       "      <td>15687.000000</td>\n",
       "      <td>15687.000000</td>\n",
       "      <td>15687.000000</td>\n",
       "    </tr>\n",
       "    <tr>\n",
       "      <th>mean</th>\n",
       "      <td>35.467307</td>\n",
       "      <td>-119.217442</td>\n",
       "      <td>27.188118</td>\n",
       "      <td>2665.677312</td>\n",
       "      <td>541.244688</td>\n",
       "      <td>1466.317205</td>\n",
       "      <td>500.916491</td>\n",
       "      <td>3.804019</td>\n",
       "      <td>12.010342</td>\n",
       "    </tr>\n",
       "    <tr>\n",
       "      <th>std</th>\n",
       "      <td>2.066387</td>\n",
       "      <td>1.780380</td>\n",
       "      <td>12.057128</td>\n",
       "      <td>2257.672743</td>\n",
       "      <td>435.650018</td>\n",
       "      <td>1180.389908</td>\n",
       "      <td>392.759399</td>\n",
       "      <td>1.857158</td>\n",
       "      <td>0.564962</td>\n",
       "    </tr>\n",
       "    <tr>\n",
       "      <th>min</th>\n",
       "      <td>32.610000</td>\n",
       "      <td>-124.140000</td>\n",
       "      <td>1.000000</td>\n",
       "      <td>2.000000</td>\n",
       "      <td>2.000000</td>\n",
       "      <td>3.000000</td>\n",
       "      <td>2.000000</td>\n",
       "      <td>0.499900</td>\n",
       "      <td>9.615805</td>\n",
       "    </tr>\n",
       "    <tr>\n",
       "      <th>25%</th>\n",
       "      <td>33.940000</td>\n",
       "      <td>-121.070000</td>\n",
       "      <td>17.000000</td>\n",
       "      <td>1441.000000</td>\n",
       "      <td>295.000000</td>\n",
       "      <td>802.000000</td>\n",
       "      <td>278.000000</td>\n",
       "      <td>2.520800</td>\n",
       "      <td>11.619994</td>\n",
       "    </tr>\n",
       "    <tr>\n",
       "      <th>50%</th>\n",
       "      <td>34.160000</td>\n",
       "      <td>-118.370000</td>\n",
       "      <td>27.000000</td>\n",
       "      <td>2118.000000</td>\n",
       "      <td>432.000000</td>\n",
       "      <td>1195.000000</td>\n",
       "      <td>406.000000</td>\n",
       "      <td>3.468800</td>\n",
       "      <td>12.025156</td>\n",
       "    </tr>\n",
       "    <tr>\n",
       "      <th>75%</th>\n",
       "      <td>37.340000</td>\n",
       "      <td>-117.990000</td>\n",
       "      <td>36.000000</td>\n",
       "      <td>3172.000000</td>\n",
       "      <td>645.000000</td>\n",
       "      <td>1777.000000</td>\n",
       "      <td>602.000000</td>\n",
       "      <td>4.686200</td>\n",
       "      <td>12.392971</td>\n",
       "    </tr>\n",
       "    <tr>\n",
       "      <th>max</th>\n",
       "      <td>41.950000</td>\n",
       "      <td>-114.310000</td>\n",
       "      <td>52.000000</td>\n",
       "      <td>39320.000000</td>\n",
       "      <td>6445.000000</td>\n",
       "      <td>35682.000000</td>\n",
       "      <td>6082.000000</td>\n",
       "      <td>15.000100</td>\n",
       "      <td>13.122367</td>\n",
       "    </tr>\n",
       "  </tbody>\n",
       "</table>\n",
       "</div>"
      ],
      "text/plain": [
       "           latitude     longitude  housing_median_age   total_rooms  \\\n",
       "count  15687.000000  15687.000000        15687.000000  15687.000000   \n",
       "mean      35.467307   -119.217442           27.188118   2665.677312   \n",
       "std        2.066387      1.780380           12.057128   2257.672743   \n",
       "min       32.610000   -124.140000            1.000000      2.000000   \n",
       "25%       33.940000   -121.070000           17.000000   1441.000000   \n",
       "50%       34.160000   -118.370000           27.000000   2118.000000   \n",
       "75%       37.340000   -117.990000           36.000000   3172.000000   \n",
       "max       41.950000   -114.310000           52.000000  39320.000000   \n",
       "\n",
       "       total_bedrooms    population    households  median_income  \\\n",
       "count    15530.000000  15687.000000  15687.000000   15687.000000   \n",
       "mean       541.244688   1466.317205    500.916491       3.804019   \n",
       "std        435.650018   1180.389908    392.759399       1.857158   \n",
       "min          2.000000      3.000000      2.000000       0.499900   \n",
       "25%        295.000000    802.000000    278.000000       2.520800   \n",
       "50%        432.000000   1195.000000    406.000000       3.468800   \n",
       "75%        645.000000   1777.000000    602.000000       4.686200   \n",
       "max       6445.000000  35682.000000   6082.000000      15.000100   \n",
       "\n",
       "       median_house_value  \n",
       "count        15687.000000  \n",
       "mean            12.010342  \n",
       "std              0.564962  \n",
       "min              9.615805  \n",
       "25%             11.619994  \n",
       "50%             12.025156  \n",
       "75%             12.392971  \n",
       "max             13.122367  "
      ]
     },
     "metadata": {},
     "output_type": "display_data"
    }
   ],
   "source": [
    "def prepare_split_train_val_test(df, seed, verbose=False):\n",
    "    df_shuffled = df.copy(deep=True).sample(frac=1,random_state=seed)\n",
    "    if verbose:\n",
    "        display(df_shuffled.head(2))\n",
    "    df_shuffled.median_house_value = df_shuffled.median_house_value.apply(np.log1p)\n",
    "    if verbose:\n",
    "        display(df_shuffled.head(2))\n",
    "    df_shuffled = df_shuffled.reset_index(drop=True)\n",
    "    if verbose:\n",
    "        display(df_shuffled.head(2)) \n",
    "        display(df_shuffled.describe())\n",
    "\n",
    "    n_total = len(df_shuffled)\n",
    "    n_val = int(n_total * 0.2)\n",
    "    n_test = int(n_total * 0.2)\n",
    "    n_train = n_total - n_val - n_test\n",
    "\n",
    "    df_train = df_shuffled[:n_train]\n",
    "    df_val = df_shuffled[n_train:n_train+n_val]\n",
    "    df_test = df_shuffled[n_train+n_val:]\n",
    "\n",
    "    return df_train, df_val, df_test\n",
    "\n",
    "df_train, df_val, df_test = prepare_split_train_val_test(df, seed=42, verbose=True)"
   ]
  },
  {
   "cell_type": "code",
   "execution_count": 10,
   "metadata": {},
   "outputs": [
    {
     "data": {
      "text/plain": [
       "(9413, 3137, 3137)"
      ]
     },
     "execution_count": 10,
     "metadata": {},
     "output_type": "execute_result"
    }
   ],
   "source": [
    "len(df_train), len(df_val), len(df_test)"
   ]
  },
  {
   "cell_type": "code",
   "execution_count": 11,
   "metadata": {},
   "outputs": [
    {
     "data": {
      "text/plain": [
       "True"
      ]
     },
     "execution_count": 11,
     "metadata": {},
     "output_type": "execute_result"
    }
   ],
   "source": [
    "len(df_train) + len(df_val) + len(df_test) == len(df)"
   ]
  },
  {
   "cell_type": "code",
   "execution_count": 12,
   "metadata": {},
   "outputs": [
    {
     "data": {
      "text/html": [
       "<div>\n",
       "<style scoped>\n",
       "    .dataframe tbody tr th:only-of-type {\n",
       "        vertical-align: middle;\n",
       "    }\n",
       "\n",
       "    .dataframe tbody tr th {\n",
       "        vertical-align: top;\n",
       "    }\n",
       "\n",
       "    .dataframe thead th {\n",
       "        text-align: right;\n",
       "    }\n",
       "</style>\n",
       "<table border=\"1\" class=\"dataframe\">\n",
       "  <thead>\n",
       "    <tr style=\"text-align: right;\">\n",
       "      <th></th>\n",
       "      <th>latitude</th>\n",
       "      <th>longitude</th>\n",
       "      <th>housing_median_age</th>\n",
       "      <th>total_rooms</th>\n",
       "      <th>total_bedrooms</th>\n",
       "      <th>population</th>\n",
       "      <th>households</th>\n",
       "      <th>median_income</th>\n",
       "      <th>median_house_value</th>\n",
       "    </tr>\n",
       "  </thead>\n",
       "  <tbody>\n",
       "    <tr>\n",
       "      <th>0</th>\n",
       "      <td>36.23</td>\n",
       "      <td>-119.14</td>\n",
       "      <td>22.0</td>\n",
       "      <td>2935.0</td>\n",
       "      <td>523.0</td>\n",
       "      <td>1927.0</td>\n",
       "      <td>530.0</td>\n",
       "      <td>2.5875</td>\n",
       "      <td>11.161963</td>\n",
       "    </tr>\n",
       "    <tr>\n",
       "      <th>1</th>\n",
       "      <td>34.12</td>\n",
       "      <td>-117.79</td>\n",
       "      <td>16.0</td>\n",
       "      <td>2426.0</td>\n",
       "      <td>426.0</td>\n",
       "      <td>1319.0</td>\n",
       "      <td>446.0</td>\n",
       "      <td>4.8125</td>\n",
       "      <td>12.321635</td>\n",
       "    </tr>\n",
       "  </tbody>\n",
       "</table>\n",
       "</div>"
      ],
      "text/plain": [
       "   latitude  longitude  housing_median_age  total_rooms  total_bedrooms  \\\n",
       "0     36.23    -119.14                22.0       2935.0           523.0   \n",
       "1     34.12    -117.79                16.0       2426.0           426.0   \n",
       "\n",
       "   population  households  median_income  median_house_value  \n",
       "0      1927.0       530.0         2.5875           11.161963  \n",
       "1      1319.0       446.0         4.8125           12.321635  "
      ]
     },
     "execution_count": 12,
     "metadata": {},
     "output_type": "execute_result"
    }
   ],
   "source": [
    "df_train.head(2)"
   ]
  },
  {
   "cell_type": "markdown",
   "metadata": {},
   "source": [
    "### Question 3\n",
    "\n",
    "* We need to deal with missing values for the column from Q1.\n",
    "* We have two options: fill it with 0 or with the mean of this variable.\n",
    "* Try both options. For each, train a linear regression model without regularization using the code from the lessons.\n",
    "* For computing the mean, use the training only!\n",
    "* Use the validation dataset to evaluate the models and compare the RMSE of each option.\n",
    "* Round the RMSE scores to 2 decimal digits using `round(score, 2)`\n",
    "* Which option gives better RMSE?\n",
    "\n",
    "Options:\n",
    "\n",
    "- With 0\n",
    "- With mean\n",
    "- __Both are equally good__"
   ]
  },
  {
   "cell_type": "code",
   "execution_count": 13,
   "metadata": {},
   "outputs": [],
   "source": [
    "# Code from https://github.com/alexeygrigorev/mlbookcamp-code/blob/master/chapter-02-car-price/02-carprice.ipynb or at lease inspired by it.\n",
    "def train_linear_regression(X, y):\n",
    "    ones = np.ones(X.shape[0])\n",
    "    X = np.column_stack([ones, X])\n",
    "    XTX = X.T.dot(X)\n",
    "    XTX_inv = np.linalg.inv(XTX)\n",
    "    w = XTX_inv.dot(X.T).dot(y)\n",
    "    return w[0], w[1:]\n",
    "\n",
    "def train_linear_regression_reg(X, y, r=0.0):\n",
    "    ones = np.ones(X.shape[0])\n",
    "    X = np.column_stack([ones, X])\n",
    "    XTX = X.T.dot(X)\n",
    "    reg = r * np.eye(XTX.shape[0])\n",
    "    XTX = XTX + reg\n",
    "    XTX_inv = np.linalg.inv(XTX)\n",
    "    w = XTX_inv.dot(X.T).dot(y)\n",
    "    return w[0], w[1:]\n",
    "\n",
    "def rmse(y, y_pred):\n",
    "    error = y_pred - y\n",
    "    mse = (error ** 2).mean()\n",
    "    return np.sqrt(mse)\n",
    "\n",
    "def predict(x, w_0, w):\n",
    "    y_pred = x.dot(w) + w_0\n",
    "    return y_pred\n",
    "\n",
    "def prepare_X(df, col_name_drop, col_name_fillna, fillna_value):\n",
    "    df_x = df.drop(col_name_drop, axis=1)\n",
    "    df_x[col_name_fillna] = df_x[col_name_fillna].fillna(fillna_value)\n",
    "    return df_x.values\n",
    "\n",
    "def prepare_y(df, y_data_col_name):\n",
    "    df_y = df[y_data_col_name]\n",
    "    return df_y.values"
   ]
  },
  {
   "cell_type": "code",
   "execution_count": 14,
   "metadata": {},
   "outputs": [
    {
     "data": {
      "text/plain": [
       "True"
      ]
     },
     "execution_count": 14,
     "metadata": {},
     "output_type": "execute_result"
    }
   ],
   "source": [
    "df.total_bedrooms.isna().any()"
   ]
  },
  {
   "cell_type": "code",
   "execution_count": 15,
   "metadata": {},
   "outputs": [],
   "source": [
    "col_name_fillna = 'total_bedrooms'\n",
    "col_name_y = 'median_house_value'\n",
    "col_name_fillna_mean = df_train[col_name_fillna].mean()"
   ]
  },
  {
   "cell_type": "code",
   "execution_count": 16,
   "metadata": {},
   "outputs": [],
   "source": [
    "x_train_zero = prepare_X(df_train, col_name_drop=col_name_y, col_name_fillna=col_name_fillna, fillna_value=0)\n",
    "x_train_mean = prepare_X(df_train, col_name_drop=col_name_y, col_name_fillna=col_name_fillna, fillna_value=col_name_fillna_mean)\n",
    "\n",
    "x_val_zero = prepare_X(df_val, col_name_drop=col_name_y, col_name_fillna=col_name_fillna, fillna_value=0)\n",
    "x_val_mean = prepare_X(df_val, col_name_drop=col_name_y, col_name_fillna=col_name_fillna, fillna_value=col_name_fillna_mean)\n",
    "\n",
    "y_train = prepare_y(df_train, y_data_col_name=col_name_y)\n",
    "y_val = prepare_y(df_val, y_data_col_name=col_name_y)"
   ]
  },
  {
   "cell_type": "code",
   "execution_count": 17,
   "metadata": {},
   "outputs": [
    {
     "name": "stdout",
     "output_type": "stream",
     "text": [
      "RMSE_zero: 0.34\n",
      "RMSE_mean: 0.34\n"
     ]
    }
   ],
   "source": [
    "# column from Q1 is total_bedrooms\n",
    "w_0_zero, w_zero = train_linear_regression(x_train_zero, y_train)\n",
    "y_pred_zero_val = predict(x_val_zero, w_0_zero, w_zero)\n",
    "\n",
    "w_0_mean, w_mean = train_linear_regression(x_train_mean, y_train)\n",
    "y_pred_mean_val = predict(x_val_mean, w_0_mean, w_mean)\n",
    "\n",
    "rmse_zero = rmse(y_val, y_pred_zero_val)\n",
    "rmse_mean = rmse(y_val, y_pred_mean_val)\n",
    "print(f\"RMSE_zero: {rmse_zero:.2f}\")\n",
    "print(f\"RMSE_mean: {rmse_mean:.2f}\")"
   ]
  },
  {
   "cell_type": "code",
   "execution_count": 18,
   "metadata": {},
   "outputs": [],
   "source": [
    "# print(f\"RMSE_zero: {rmse_zero:.5f}\")\n",
    "# print(f\"RMSE_mean: {rmse_mean:.5f}\")"
   ]
  },
  {
   "cell_type": "code",
   "execution_count": 19,
   "metadata": {},
   "outputs": [
    {
     "name": "stdout",
     "output_type": "stream",
     "text": [
      "-9.76324947791179 [-2.68233309e-01 -2.55938802e-01  1.77710730e-03 -3.38393956e-05\n",
      "  2.93766352e-04 -1.52190447e-04  3.96908643e-04  1.80600946e-01]\n",
      "-9.886133216298681 [-2.68652914e-01 -2.57026361e-01  1.79880767e-03 -3.87631029e-05\n",
      "  3.78806885e-04 -1.49641599e-04  3.25344392e-04  1.81951358e-01]\n"
     ]
    }
   ],
   "source": [
    "print(w_0_zero, w_zero)\n",
    "print(w_0_mean, w_mean)"
   ]
  },
  {
   "cell_type": "code",
   "execution_count": 20,
   "metadata": {},
   "outputs": [
    {
     "name": "stderr",
     "output_type": "stream",
     "text": [
      "/usr/local/lib/python3.10/site-packages/seaborn/_oldcore.py:1498: FutureWarning: is_categorical_dtype is deprecated and will be removed in a future version. Use isinstance(dtype, CategoricalDtype) instead\n",
      "  if pd.api.types.is_categorical_dtype(vector):\n",
      "/usr/local/lib/python3.10/site-packages/seaborn/_oldcore.py:1119: FutureWarning: use_inf_as_na option is deprecated and will be removed in a future version. Convert inf values to NaN before operating instead.\n",
      "  with pd.option_context('mode.use_inf_as_na', True):\n",
      "/usr/local/lib/python3.10/site-packages/seaborn/_oldcore.py:1498: FutureWarning: is_categorical_dtype is deprecated and will be removed in a future version. Use isinstance(dtype, CategoricalDtype) instead\n",
      "  if pd.api.types.is_categorical_dtype(vector):\n",
      "/usr/local/lib/python3.10/site-packages/seaborn/_oldcore.py:1119: FutureWarning: use_inf_as_na option is deprecated and will be removed in a future version. Convert inf values to NaN before operating instead.\n",
      "  with pd.option_context('mode.use_inf_as_na', True):\n",
      "/usr/local/lib/python3.10/site-packages/seaborn/_oldcore.py:1498: FutureWarning: is_categorical_dtype is deprecated and will be removed in a future version. Use isinstance(dtype, CategoricalDtype) instead\n",
      "  if pd.api.types.is_categorical_dtype(vector):\n",
      "/usr/local/lib/python3.10/site-packages/seaborn/_oldcore.py:1119: FutureWarning: use_inf_as_na option is deprecated and will be removed in a future version. Convert inf values to NaN before operating instead.\n",
      "  with pd.option_context('mode.use_inf_as_na', True):\n"
     ]
    },
    {
     "data": {
      "text/plain": [
       "<Axes: ylabel='Count'>"
      ]
     },
     "execution_count": 20,
     "metadata": {},
     "output_type": "execute_result"
    },
    {
     "data": {
      "image/png": "[encoded data removed]",
      "text/plain": [
       "<Figure size 640x480 with 1 Axes>"
      ]
     },
     "metadata": {},
     "output_type": "display_data"
    }
   ],
   "source": [
    "sns.histplot(y_pred_mean_val, alpha=.5, bins=50, color='blue')\n",
    "sns.histplot(y_pred_zero_val, alpha=.5, bins=50, color='red')\n",
    "sns.histplot(y_val, alpha=.5, bins=50, color='yellow')"
   ]
  },
  {
   "cell_type": "markdown",
   "metadata": {},
   "source": [
    "Trying the same as above using scikit-learn."
   ]
  },
  {
   "cell_type": "code",
   "execution_count": 21,
   "metadata": {},
   "outputs": [
    {
     "name": "stdout",
     "output_type": "stream",
     "text": [
      "RMSE_zero: 0.34\n",
      "RMSE_mean: 0.34\n"
     ]
    }
   ],
   "source": [
    "# column from Q1 is total_bedrooms\n",
    "from sklearn import linear_model\n",
    "from sklearn.metrics import mean_squared_error\n",
    "reg = linear_model.LinearRegression()\n",
    "\n",
    "model_zero = reg.fit(x_train_zero, y_train)\n",
    "y_predict_zero_val = model_zero.predict(x_val_zero)\n",
    "rmse_zero = np.sqrt(mean_squared_error(y_val, y_predict_zero_val))\n",
    "\n",
    "model_mean = reg.fit(x_train_mean, y_train)\n",
    "y_predict_mean_val = model_mean.predict(x_val_zero)\n",
    "rmse_mean = np.sqrt(mean_squared_error(y_val, y_predict_mean_val))\n",
    "\n",
    "print(f\"RMSE_zero: {rmse_zero:.2f}\")\n",
    "print(f\"RMSE_mean: {rmse_mean:.2f}\")\n"
   ]
  },
  {
   "cell_type": "markdown",
   "metadata": {},
   "source": [
    "### Question 4\n",
    "\n",
    "* Now let's train a regularized linear regression.\n",
    "* For this question, fill the NAs with 0. \n",
    "* Try different values of `r` from this list: `[0, 0.000001, 0.0001, 0.001, 0.01, 0.1, 1, 5, 10]`.\n",
    "* Use RMSE to evaluate the model on the validation dataset.\n",
    "* Round the RMSE scores to 2 decimal digits.\n",
    "* Which `r` gives the best RMSE?\n",
    "\n",
    "If there are multiple options, select the smallest `r`.\n",
    "\n",
    "Options:\n",
    "\n",
    "- __0__\n",
    "- 0.000001\n",
    "- 0.001\n",
    "- 0.0001\n"
   ]
  },
  {
   "cell_type": "code",
   "execution_count": 22,
   "metadata": {},
   "outputs": [],
   "source": [
    "reg_values = [0, 0.000001, 0.0001, 0.001, 0.01, 0.1, 1, 5, 10]"
   ]
  },
  {
   "cell_type": "code",
   "execution_count": 23,
   "metadata": {},
   "outputs": [
    {
     "name": "stdout",
     "output_type": "stream",
     "text": [
      "RMSE: 0.34, Regularization: 0\n",
      "RMSE: 0.34, Regularization: 1e-06\n",
      "RMSE: 0.34, Regularization: 0.0001\n",
      "RMSE: 0.34, Regularization: 0.001\n",
      "RMSE: 0.34, Regularization: 0.01\n",
      "RMSE: 0.34, Regularization: 0.1\n",
      "RMSE: 0.34, Regularization: 1\n",
      "RMSE: 0.35, Regularization: 5\n",
      "RMSE: 0.35, Regularization: 10\n"
     ]
    }
   ],
   "source": [
    "result = {}\n",
    "for reg_value in reg_values:\n",
    "    w_0_zero, w_zero = train_linear_regression_reg(\n",
    "        x_train_zero, y_train,reg_value\n",
    "    )\n",
    "    y_pred_zero_val = predict(x_val_zero, w_0_zero, w_zero)\n",
    "    rmse_zero = rmse(y_val, y_pred_zero_val)\n",
    "\n",
    "    result[reg_value] = np.round(rmse_zero, decimals=2)\n",
    "    #print(f\"RMSE: {rmse_zero:.2f}, Regularization: {reg_value}\")\n",
    "\n",
    "result_sorted = dict(sorted(result.items(), key=lambda item: item[1]))\n",
    "for v_reg, v_rmse in result_sorted.items():\n",
    "    print(f\"RMSE: {v_rmse}, Regularization: {v_reg}\")\n"
   ]
  },
  {
   "cell_type": "markdown",
   "metadata": {},
   "source": [
    "Trying out Ridge"
   ]
  },
  {
   "cell_type": "code",
   "execution_count": 24,
   "metadata": {},
   "outputs": [
    {
     "name": "stdout",
     "output_type": "stream",
     "text": [
      "RMSE: 0.34, Regularization: 0\n",
      "RMSE: 0.34, Regularization: 1e-06\n",
      "RMSE: 0.34, Regularization: 0.0001\n",
      "RMSE: 0.34, Regularization: 0.001\n",
      "RMSE: 0.34, Regularization: 0.01\n",
      "RMSE: 0.34, Regularization: 0.1\n",
      "RMSE: 0.34, Regularization: 1\n",
      "RMSE: 0.34, Regularization: 5\n",
      "RMSE: 0.34, Regularization: 10\n"
     ]
    }
   ],
   "source": [
    "from sklearn.linear_model import Ridge\n",
    "from sklearn.metrics import mean_squared_error\n",
    "\n",
    "result = {}\n",
    "for reg_value in reg_values:\n",
    "    reg_model = Ridge(alpha=reg_value)\n",
    "    model_zero = reg_model.fit(x_train_zero, y_train)\n",
    "    y_pred_val_zero = model_zero.predict(x_val_zero)\n",
    "    rmse_zero = np.sqrt(mean_squared_error(y_val, y_pred_val_zero))\n",
    "    result[reg_value] = np.round(rmse_zero, decimals=2)\n",
    "\n",
    "result_sorted = dict(sorted(result.items(), key=lambda item: item[1]))\n",
    "for v_reg, v_rmse in result_sorted.items():\n",
    "    print(f\"RMSE: {v_rmse}, Regularization: {v_reg}\")"
   ]
  },
  {
   "cell_type": "markdown",
   "metadata": {},
   "source": [
    "### Question 5 \n",
    "\n",
    "* We used seed 42 for splitting the data. Let's find out how selecting the seed influences our score.\n",
    "* Try different seed values: `[0, 1, 2, 3, 4, 5, 6, 7, 8, 9]`.\n",
    "* For each seed, do the train/validation/test split with 60%/20%/20% distribution.\n",
    "* Fill the missing values with 0 and train a model without regularization.\n",
    "* For each seed, evaluate the model on the validation dataset and collect the RMSE scores. \n",
    "* What's the standard deviation of all the scores? To compute the standard deviation, use `np.std`.\n",
    "* Round the result to 3 decimal digits (`round(std, 3)`)\n",
    "\n",
    "> Note: Standard deviation shows how different the values are.\n",
    "> If it's low, then all values are approximately the same.\n",
    "> If it's high, the values are different. \n",
    "> If standard deviation of scores is low, then our model is *stable*.\n",
    "\n",
    "What's the value of std?\n",
    "\n",
    "- 0.5\n",
    "- 0.05\n",
    "- __0.005__\n",
    "- 0.0005"
   ]
  },
  {
   "cell_type": "code",
   "execution_count": 25,
   "metadata": {},
   "outputs": [
    {
     "name": "stdout",
     "output_type": "stream",
     "text": [
      "<class 'pandas.core.frame.DataFrame'>\n",
      "RangeIndex: 9413 entries, 0 to 9412\n",
      "Data columns (total 9 columns):\n",
      " #   Column              Non-Null Count  Dtype  \n",
      "---  ------              --------------  -----  \n",
      " 0   latitude            9413 non-null   float64\n",
      " 1   longitude           9413 non-null   float64\n",
      " 2   housing_median_age  9413 non-null   float64\n",
      " 3   total_rooms         9413 non-null   float64\n",
      " 4   total_bedrooms      9319 non-null   float64\n",
      " 5   population          9413 non-null   float64\n",
      " 6   households          9413 non-null   float64\n",
      " 7   median_income       9413 non-null   float64\n",
      " 8   median_house_value  9413 non-null   float64\n",
      "dtypes: float64(9)\n",
      "memory usage: 662.0 KB\n"
     ]
    }
   ],
   "source": [
    "# display(df_train.describe())\n",
    "# display(df_val.describe())\n",
    "df_train.info()"
   ]
  },
  {
   "cell_type": "code",
   "execution_count": 26,
   "metadata": {},
   "outputs": [
    {
     "name": "stdout",
     "output_type": "stream",
     "text": [
      "RMSE: 0.338, seed: 0\n",
      "RMSE: 0.338, seed: 1\n",
      "RMSE: 0.338, seed: 2\n",
      "RMSE: 0.332, seed: 3\n",
      "RMSE: 0.339, seed: 4\n",
      "RMSE: 0.343, seed: 5\n",
      "RMSE: 0.339, seed: 6\n",
      "RMSE: 0.347, seed: 7\n",
      "RMSE: 0.351, seed: 8\n",
      "RMSE: 0.334, seed: 9\n"
     ]
    }
   ],
   "source": [
    "seed_values = [0, 1, 2, 3, 4, 5, 6, 7, 8, 9]\n",
    "result = {}\n",
    "for seed in seed_values:\n",
    "    df_train, df_val, df_test = prepare_split_train_val_test(df, seed)  \n",
    "    #display(df_train.head())\n",
    "\n",
    "    x_train = prepare_X(df_train, col_name_drop=col_name_y, col_name_fillna=col_name_fillna, fillna_value=0)\n",
    "    x_val = prepare_X(df_val, col_name_drop=col_name_y, col_name_fillna=col_name_fillna, fillna_value=0)\n",
    "    y_train_zero = prepare_y(df_train, y_data_col_name=col_name_y)\n",
    "    y_val_zero = prepare_y(df_val, y_data_col_name=col_name_y)\n",
    "\n",
    "    w_0_zero, w_zero = train_linear_regression(x_train,y_train_zero)\n",
    "    y_pred_zero_val = predict(x_val, w_0_zero, w_zero)\n",
    "\n",
    "    #print(w_0_zero, w_zero[0])\n",
    "\n",
    "    rmse_zero = rmse(y_val_zero, y_pred_zero_val)\n",
    "    print(f\"RMSE: {rmse_zero:.3f}, seed: {seed}\")\n",
    "\n",
    "    result[seed] = np.round(rmse_zero, decimals=3)"
   ]
  },
  {
   "cell_type": "code",
   "execution_count": 27,
   "metadata": {},
   "outputs": [
    {
     "name": "stdout",
     "output_type": "stream",
     "text": [
      "std RMSE: 0.005\n"
     ]
    }
   ],
   "source": [
    "print(f\"std RMSE: {np.std(list(result.values())):.3f}\")"
   ]
  },
  {
   "cell_type": "markdown",
   "metadata": {},
   "source": [
    "### Question 6\n",
    "\n",
    "* Split the dataset like previously, use seed 9.\n",
    "* Combine train and validation datasets.\n",
    "* Fill the missing values with 0 and train a model with `r=0.001`. \n",
    "* What's the RMSE on the test dataset?\n",
    "\n",
    "Options:\n",
    "\n",
    "- 0.13\n",
    "- 0.23\n",
    "- __0.33__\n",
    "- 0.43\n"
   ]
  },
  {
   "cell_type": "code",
   "execution_count": 28,
   "metadata": {},
   "outputs": [
    {
     "name": "stdout",
     "output_type": "stream",
     "text": [
      "RMSE: 0.33, seed: 9\n"
     ]
    }
   ],
   "source": [
    "df_train, df_val, df_test = prepare_split_train_val_test(df, seed=9)  \n",
    "df_train_val = pd.concat([df_train, df_val]).reset_index(drop=True)\n",
    "\n",
    "x_train_val = prepare_X(df_train_val, col_name_drop=col_name_y, col_name_fillna=col_name_fillna, fillna_value=0)\n",
    "x_test = prepare_X(df_test, col_name_drop=col_name_y, col_name_fillna=col_name_fillna, fillna_value=0)\n",
    "y_train_val = prepare_y(df_train_val, y_data_col_name=col_name_y)\n",
    "y_test = prepare_y(df_test, y_data_col_name=col_name_y)\n",
    "\n",
    "w_0_zero, w_zero = train_linear_regression_reg(x_train_val, y_train_val, r=0.001)\n",
    "y_pred_test = predict(x_test, w_0_zero, w_zero)\n",
    "\n",
    "#print(w_0_zero, w_zero[0])\n",
    "\n",
    "rmse_zero = rmse(y_test, y_pred_test)\n",
    "print(f\"RMSE: {rmse_zero:.2f}, seed: {seed}\")"
   ]
  },
  {
   "cell_type": "markdown",
   "metadata": {},
   "source": [
    "Same as above but using sckit-learn."
   ]
  },
  {
   "cell_type": "code",
   "execution_count": 29,
   "metadata": {},
   "outputs": [
    {
     "name": "stdout",
     "output_type": "stream",
     "text": [
      "RMSE_zero: 0.33\n"
     ]
    }
   ],
   "source": [
    "# column from Q1 is total_bedrooms\n",
    "from sklearn.linear_model import Ridge \n",
    "from sklearn.metrics import mean_squared_error\n",
    "\n",
    "reg_model = Ridge(alpha=0.001)\n",
    "\n",
    "model_zero = reg_model.fit(x_train_val, y_train_val)\n",
    "y_predict_train_val = model_zero.predict(x_test)\n",
    "rmse_zero = np.sqrt(mean_squared_error(y_test, y_predict_train_val))\n",
    "\n",
    "print(f\"RMSE_zero: {rmse_zero:.2f}\")\n"
   ]
  },
  {
   "cell_type": "code",
   "execution_count": null,
   "metadata": {},
   "outputs": [],
   "source": []
  }
 ],
 "metadata": {
  "kernelspec": {
   "display_name": "Python 3",
   "language": "python",
   "name": "python3"
  },
  "language_info": {
   "codemirror_mode": {
    "name": "ipython",
    "version": 3
   },
   "file_extension": ".py",
   "mimetype": "text/x-python",
   "name": "python",
   "nbconvert_exporter": "python",
   "pygments_lexer": "ipython3",
   "version": "3.10.13"
  },
  "orig_nbformat": 4
 },
 "nbformat": 4,
 "nbformat_minor": 2
}
