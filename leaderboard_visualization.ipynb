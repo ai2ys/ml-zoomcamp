{
 "cells": [
  {
   "cell_type": "markdown",
   "metadata": {},
   "source": [
    "Instruction for running this leaderboard notebook with the provided :whale: Dockerfile and JupyterLab.\n",
    "\n",
    "1. Run the command **`docker compose run --rm --service-ports mlzoomcamp`** from the shell of the project base directory\n",
    "    ```bash\n",
    "    $ docker compose run --rm --service-ports mlzoomcamp\n",
    "    ```\n",
    "    The JupyterLab port defaults to `8888`. If required adapt the JupyterLab port can be changed at container startup by running the following command instead\n",
    "    ```bash\n",
    "    $ PORT_JNB=<port> docker compose run --rm --service-ports mlzoomcamp\n",
    "    ```\n",
    "\n",
    "2. After you see the shell of the container **`root@mlzoomcamp:/workspace#`** you can easily start JupyterLab using the alias **`jlab`** in the shell of the container. It will use the provided port from container startup.\n",
    "    ```bash\n",
    "    `root@mlzoomcamp:/workspace# jlab\n",
    "    \n",
    "    ```\n"
   ]
  },
  {
   "cell_type": "markdown",
   "metadata": {},
   "source": [
    "# Plotting histogram of total score\n",
    "\n",
    "Check your placement for total scores."
   ]
  },
  {
   "cell_type": "code",
   "execution_count": 5,
   "metadata": {},
   "outputs": [
    {
     "name": "stdout",
     "output_type": "stream",
     "text": [
      "Requirement already satisfied: lxml in /usr/local/lib/python3.10/site-packages (4.9.3)\n",
      "Requirement already satisfied: ipywidgets in /usr/local/lib/python3.10/site-packages (8.1.1)\n",
      "Requirement already satisfied: comm>=0.1.3 in /usr/local/lib/python3.10/site-packages (from ipywidgets) (0.1.4)\n",
      "Requirement already satisfied: ipython>=6.1.0 in /usr/local/lib/python3.10/site-packages (from ipywidgets) (8.15.0)\n",
      "Requirement already satisfied: traitlets>=4.3.1 in /usr/local/lib/python3.10/site-packages (from ipywidgets) (5.10.1)\n",
      "Requirement already satisfied: widgetsnbextension~=4.0.9 in /usr/local/lib/python3.10/site-packages (from ipywidgets) (4.0.9)\n",
      "Requirement already satisfied: jupyterlab-widgets~=3.0.9 in /usr/local/lib/python3.10/site-packages (from ipywidgets) (3.0.9)\n",
      "Requirement already satisfied: backcall in /usr/local/lib/python3.10/site-packages (from ipython>=6.1.0->ipywidgets) (0.2.0)\n",
      "Requirement already satisfied: decorator in /usr/local/lib/python3.10/site-packages (from ipython>=6.1.0->ipywidgets) (5.1.1)\n",
      "Requirement already satisfied: jedi>=0.16 in /usr/local/lib/python3.10/site-packages (from ipython>=6.1.0->ipywidgets) (0.19.0)\n",
      "Requirement already satisfied: matplotlib-inline in /usr/local/lib/python3.10/site-packages (from ipython>=6.1.0->ipywidgets) (0.1.6)\n",
      "Requirement already satisfied: pickleshare in /usr/local/lib/python3.10/site-packages (from ipython>=6.1.0->ipywidgets) (0.7.5)\n",
      "Requirement already satisfied: prompt-toolkit!=3.0.37,<3.1.0,>=3.0.30 in /usr/local/lib/python3.10/site-packages (from ipython>=6.1.0->ipywidgets) (3.0.39)\n",
      "Requirement already satisfied: pygments>=2.4.0 in /usr/local/lib/python3.10/site-packages (from ipython>=6.1.0->ipywidgets) (2.16.1)\n",
      "Requirement already satisfied: stack-data in /usr/local/lib/python3.10/site-packages (from ipython>=6.1.0->ipywidgets) (0.6.2)\n",
      "Requirement already satisfied: exceptiongroup in /usr/local/lib/python3.10/site-packages (from ipython>=6.1.0->ipywidgets) (1.1.3)\n",
      "Requirement already satisfied: pexpect>4.3 in /usr/local/lib/python3.10/site-packages (from ipython>=6.1.0->ipywidgets) (4.8.0)\n",
      "Requirement already satisfied: parso<0.9.0,>=0.8.3 in /usr/local/lib/python3.10/site-packages (from jedi>=0.16->ipython>=6.1.0->ipywidgets) (0.8.3)\n",
      "Requirement already satisfied: ptyprocess>=0.5 in /usr/local/lib/python3.10/site-packages (from pexpect>4.3->ipython>=6.1.0->ipywidgets) (0.7.0)\n",
      "Requirement already satisfied: wcwidth in /usr/local/lib/python3.10/site-packages (from prompt-toolkit!=3.0.37,<3.1.0,>=3.0.30->ipython>=6.1.0->ipywidgets) (0.2.6)\n",
      "Requirement already satisfied: executing>=1.2.0 in /usr/local/lib/python3.10/site-packages (from stack-data->ipython>=6.1.0->ipywidgets) (1.2.0)\n",
      "Requirement already satisfied: asttokens>=2.1.0 in /usr/local/lib/python3.10/site-packages (from stack-data->ipython>=6.1.0->ipywidgets) (2.4.0)\n",
      "Requirement already satisfied: pure-eval in /usr/local/lib/python3.10/site-packages (from stack-data->ipython>=6.1.0->ipywidgets) (0.2.2)\n",
      "Requirement already satisfied: six>=1.12.0 in /usr/local/lib/python3.10/site-packages (from asttokens>=2.1.0->stack-data->ipython>=6.1.0->ipywidgets) (1.16.0)\n",
      "\u001b[33mWARNING: Running pip as the 'root' user can result in broken permissions and conflicting behaviour with the system package manager. It is recommended to use a virtual environment instead: https://pip.pypa.io/warnings/venv\u001b[0m\u001b[33m\n",
      "\u001b[0m\u001b[33m(Deprecated) Installing extensions with the jupyter labextension install command is now deprecated and will be removed in a future major version of JupyterLab.\n",
      "\n",
      "Users should manage prebuilt extensions with package managers like pip and conda, and extension authors are encouraged to distribute their extensions as prebuilt packages \u001b[0m\n",
      "/usr/local/lib/python3.10/site-packages/jupyterlab/debuglog.py:56: UserWarning: An error occurred.\n",
      "  warnings.warn(\"An error occurred.\")\n",
      "/usr/local/lib/python3.10/site-packages/jupyterlab/debuglog.py:57: UserWarning: ValueError: Please install Node.js and npm before continuing installation. You may be able to install Node.js from your package manager, from conda, or directly from the Node.js website (https://nodejs.org).\n",
      "  warnings.warn(msg[-1].strip())\n",
      "/usr/local/lib/python3.10/site-packages/jupyterlab/debuglog.py:58: UserWarning: See the log file for details: /tmp/jupyterlab-debug-nov94sro.log\n",
      "  warnings.warn(f\"See the log file for details: {log_path!s}\")\n"
     ]
    }
   ],
   "source": [
    "!pip install lxml ipywidgets\n",
    "!jupyter labextension install @jupyter-widgets/jupyterlab-manager"
   ]
  },
  {
   "cell_type": "markdown",
   "metadata": {},
   "source": [
    "***:information_source: Restart kernel after executing the cell above for installing missing libraries.***"
   ]
  },
  {
   "cell_type": "code",
   "execution_count": 14,
   "metadata": {},
   "outputs": [],
   "source": [
    "from hashlib import sha1\n",
    "import pandas as pd\n",
    "import numpy as np\n",
    "import ipywidgets as widgets\n",
    "import matplotlib.pyplot as plt\n",
    "from typing import Tuple\n",
    "from IPython.display import display, clear_output\n",
    "\n",
    "def compute_hash(email):\n",
    "    return sha1(email.lower().encode('utf-8')).hexdigest()\n",
    "\n",
    "def read_leaderboard_from_google_spreadsheet(\n",
    "        url:str='https://docs.google.com/spreadsheets/d/e/2PACX-1vSNK_yGtELX1RJK1SSRl4xiUbD0XZMYS6uwHnybc7Mql-WMnMgO7hHSu59w-1cE7FeFZjkopbh684UE/pubhtml#'\n",
    "    )->pd.DataFrame:\n",
    "    list_df = pd.read_html(url, header=1, index_col=0)\n",
    "    for df in list_df[1:]:\n",
    "        df.drop(index=np.NaN, inplace=True)\n",
    "        df.reset_index(drop=True, inplace=True)\n",
    "    df_leaderboard = list_df[-1]\n",
    "\n",
    "    return df_leaderboard\n",
    "\n",
    "def get_your_score_and_position(\n",
    "        df_leaderboard:pd.DataFrame,\n",
    "        email_hash:str,\n",
    "    )->Tuple[int, int]:\n",
    "    indices = df_leaderboard.email==email_hash\n",
    "    if indices.any():\n",
    "        position = df_leaderboard.loc[indices].total.index.to_list()[0]\n",
    "        total_score = df_leaderboard.loc[indices].total.values[0]\n",
    "        found = True\n",
    "    else:\n",
    "        print('Your email is not found in the leaderboard')\n",
    "        found = False\n",
    "        position = np.nan\n",
    "        total_score = np.nan\n",
    "    return found, position, total_score\n",
    "\n",
    "def plot_leaderboard_histogram(\n",
    "        df_leaderboard:pd.DataFrame, \n",
    "        ax:plt.Axes=None,\n",
    "        your_score:int=np.nan, \n",
    "        your_position:int=np.nan,\n",
    "        marker='o',\n",
    "        color='orange', \n",
    "        ):\n",
    "    ax = df_leaderboard.total.hist(bins=200, ax=ax, cumulative=True, alpha=.7)\n",
    "    ax.grid(False)\n",
    "\n",
    "    n = len(df_leaderboard)\n",
    "    ax.hlines(n-100, xmin=0, xmax=df_leaderboard.total.max(), color='black', linestyles=':', label='top 100')\n",
    "    \n",
    "    if your_score != np.nan:\n",
    "        ax.scatter(\n",
    "            x=your_score,\n",
    "            y=n-your_position,\n",
    "            color=color,\n",
    "            marker=marker,\n",
    "            label='your position'\n",
    "        )\n",
    "    ax.set_xlabel('total scores')\n",
    "    ax.set_title('Check your placement for total scores')\n",
    "    ax.grid(False)\n",
    "    ax.legend()\n",
    "    return ax\n",
    "\n"
   ]
  },
  {
   "cell_type": "code",
   "execution_count": 19,
   "metadata": {},
   "outputs": [
    {
     "data": {
      "application/vnd.jupyter.widget-view+json": {
       "model_id": "f2c82bd7c53f4bc390289925ee09bdfb",
       "version_major": 2,
       "version_minor": 0
      },
      "text/plain": [
       "VBox(children=(HBox(children=(Text(value='', placeholder='your email address'), Button(button_style='success',…"
      ]
     },
     "metadata": {},
     "output_type": "display_data"
    }
   ],
   "source": [
    "df_leaderboard = read_leaderboard_from_google_spreadsheet()\n",
    "total_score = np.nan\n",
    "position = np.nan\n",
    "solved_tasks = df_leaderboard.loc[:, 'email':'total'].columns[1:-1].to_list()\n",
    "email_hash = \"\"\n",
    "text_email = widgets.Text(\n",
    "    placeholder='your email address',\n",
    "    disabled=False,\n",
    ")\n",
    "text_hash = widgets.Text(\n",
    "    placeholder='calculated hash',\n",
    "    disabled=True,\n",
    ")\n",
    "text_info = widgets.Textarea(\n",
    "    placeholder='infos about your placement and total score',\n",
    "    layout = widgets.Layout(width='800px', height='100px'),\n",
    "    disabled=True,\n",
    ")\n",
    "\n",
    "def on_button_clicked(b):\n",
    "    global email_hash, total_score, position\n",
    "    email_hash = compute_hash(text_email.value)\n",
    "    text_hash.placeholder = email_hash\n",
    "    found, position, total_score = get_your_score_and_position(\n",
    "        df_leaderboard,\n",
    "        email_hash)\n",
    "    if not found:\n",
    "        text_info.value = f\"Unable to find your email hash in the leaderboard:\\nemail:\\t'{text_email.value}'\\nhash:\\t'{email_hash}'\"\n",
    "    else:\n",
    "        text_info.value = f\"email:\\t'{text_email.value}'\\nhash:\\t'{email_hash}'\\nposition:\\t{position} (zero-based index)\\ntotal score:\\t{total_score}\\n\\nsolved tasks:\\t{solved_tasks}\"\n",
    "\n",
    "submit_button=widgets.Button(description='>> calculate hash >>',button_style='success')\n",
    "\n",
    "submit_button.on_click(on_button_clicked)\n",
    "hbox_hash_calc = widgets.HBox([text_email,submit_button, text_hash])\n",
    "all_widgets = widgets.VBox([hbox_hash_calc, text_info])\n",
    "display(all_widgets)"
   ]
  },
  {
   "cell_type": "code",
   "execution_count": 20,
   "metadata": {},
   "outputs": [
    {
     "data": {
      "image/png": "[encoded data removed]",
      "text/plain": [
       "<Figure size 640x480 with 1 Axes>"
      ]
     },
     "metadata": {},
     "output_type": "display_data"
    }
   ],
   "source": [
    "ax = plot_leaderboard_histogram(\n",
    "        df_leaderboard, \n",
    "        your_score=total_score, \n",
    "        your_position=position)\n",
    "plt.show()\n"
   ]
  },
  {
   "cell_type": "code",
   "execution_count": null,
   "metadata": {},
   "outputs": [],
   "source": []
  },
  {
   "cell_type": "code",
   "execution_count": null,
   "metadata": {},
   "outputs": [],
   "source": []
  },
  {
   "cell_type": "code",
   "execution_count": null,
   "metadata": {},
   "outputs": [],
   "source": []
  }
 ],
 "metadata": {
  "kernelspec": {
   "display_name": "Python 3 (ipykernel)",
   "language": "python",
   "name": "python3"
  },
  "language_info": {
   "codemirror_mode": {
    "name": "ipython",
    "version": 3
   },
   "file_extension": ".py",
   "mimetype": "text/x-python",
   "name": "python",
   "nbconvert_exporter": "python",
   "pygments_lexer": "ipython3",
   "version": "3.10.13"
  },
  "orig_nbformat": 4
 },
 "nbformat": 4,
 "nbformat_minor": 2
}
